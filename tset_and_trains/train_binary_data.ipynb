{
 "cells": [
  {
   "attachments": {},
   "cell_type": "markdown",
   "metadata": {},
   "source": [
    "TODO: LOGGER"
   ]
  },
  {
   "cell_type": "code",
   "execution_count": 2,
   "metadata": {},
   "outputs": [],
   "source": [
    "import pennylane as qml\n",
    "from pennylane import numpy as np\n",
    "\n",
    "import matplotlib.pyplot as plt\n",
    "\n",
    "import pandas as pd\n",
    "\n",
    "from time import time"
   ]
  },
  {
   "attachments": {},
   "cell_type": "markdown",
   "metadata": {},
   "source": [
    "# Data"
   ]
  },
  {
   "attachments": {},
   "cell_type": "markdown",
   "metadata": {},
   "source": [
    "## \\ -> 1\n",
    "## / -> -1"
   ]
  },
  {
   "cell_type": "code",
   "execution_count": 3,
   "metadata": {},
   "outputs": [],
   "source": [
    "# 100 '\\' -> 1\n",
    "# 100 '/' -> -1\n",
    "\n",
    "import pickle\n",
    "\n",
    "# data = []\n",
    "\n",
    "# s = 15\n",
    "# for i in range(100):\n",
    "#     r = np.random.randint(4, 7, size=(2))/10\n",
    "#     a = r[0].numpy()\n",
    "#     b = r[1].numpy()\n",
    "    # im = np.array([\n",
    "    #                 [a,a/s],\n",
    "    #                 [b/s,b]\n",
    "    #                 ])\n",
    "    # im = np.array([\n",
    "    #                 [a/s,a],\n",
    "    #                 [b,b/s]\n",
    "    #                 ])\n",
    "    # im = np.array([\n",
    "    #                 [a/s,a],\n",
    "    #                 [b/s,b]\n",
    "    #                 ])\n",
    "    # im = np.array([\n",
    "    #                 [a,a/s],\n",
    "    #                 [b,b/s]\n",
    "    #                 ])\n",
    "    # data.append(im)\n",
    "\n",
    "# pickle.dump(np.array(data), open(\"generated_data.p\", \"wb\"))\n",
    "\n",
    "# label = np.append(np.zeros(100)+1, np.zeros(100)-1)\n",
    "# pickle.dump(label.numpy(), open(\"generated_label.p\", \"wb\"))"
   ]
  },
  {
   "cell_type": "code",
   "execution_count": 4,
   "metadata": {},
   "outputs": [],
   "source": [
    "dataset = pickle.load(open(\"generated_data.p\", \"rb\"))\n",
    "labelset = pickle.load(open(\"generated_label.p\", \"rb\"))\n",
    "\n",
    "shuffler = np.random.permutation(200)\n",
    "dataset = dataset[shuffler]\n",
    "labelset = labelset[shuffler]"
   ]
  },
  {
   "cell_type": "code",
   "execution_count": 28,
   "metadata": {},
   "outputs": [
    {
     "data": {
      "image/png": "[encoded data removed]",
      "text/plain": [
       "<Figure size 720x216 with 6 Axes>"
      ]
     },
     "metadata": {},
     "output_type": "display_data"
    }
   ],
   "source": [
    "n_samples_show = 6\n",
    "\n",
    "fig, axes = plt.subplots(nrows=1, ncols=n_samples_show, figsize=(10, 3))\n",
    "\n",
    "while n_samples_show > 0:\n",
    "    images = dataset[n_samples_show]\n",
    "    targets = labelset[n_samples_show]\n",
    "\n",
    "    axes[n_samples_show - 1].imshow(images, cmap='gray')\n",
    "    axes[n_samples_show - 1].set_xticks([])\n",
    "    axes[n_samples_show - 1].set_yticks([])\n",
    "    axes[n_samples_show - 1].set_title(\"Labeled: {}\".format(targets))\n",
    "    \n",
    "    n_samples_show -= 1"
   ]
  },
  {
   "attachments": {},
   "cell_type": "markdown",
   "metadata": {},
   "source": [
    "## MNIST"
   ]
  },
  {
   "cell_type": "code",
   "execution_count": 3,
   "metadata": {},
   "outputs": [],
   "source": [
    "data_root = '/home/hades/Documents/quantum_computing/Qcnn/data/MNIST_original/'\n",
    "train_root = data_root + 'mnist_train.csv'\n",
    "test_root = data_root + 'mnist_test.csv'\n",
    "\n",
    "train_data_df = pd.read_csv(train_root, index_col=0)\n",
    "test_data_df = pd.read_csv(test_root, index_col=0)\n",
    "train_data = np.array(train_data_df)\n",
    "test_data = np.array(test_data_df)\n",
    "\n",
    "train_lables = np.array(train_data_df.index)\n",
    "test_lables = np.array(test_data_df.index)\n",
    "\n",
    "idx_0_train = np.where(train_lables == 0)[0]\n",
    "idx_1_train = np.where(train_lables == 1)[0]\n",
    "\n",
    "n_samples = 200\n",
    "binary_train_data = np.vstack([train_data[idx_0_train][:n_samples], train_data[idx_1_train][:n_samples]])\n",
    "binary_train_label = np.append(np.zeros(200), np.zeros(200)+1)\n",
    "\n",
    "shuffler = np.random.permutation(2*n_samples)\n",
    "binary_train_data = binary_train_data[shuffler]\n",
    "binary_train_label = binary_train_label[shuffler]"
   ]
  },
  {
   "cell_type": "code",
   "execution_count": 13,
   "metadata": {},
   "outputs": [
    {
     "data": {
      "image/png": "[encoded data removed]",
      "text/plain": [
       "<Figure size 720x216 with 6 Axes>"
      ]
     },
     "metadata": {},
     "output_type": "display_data"
    }
   ],
   "source": [
    "n_samples_show = 6\n",
    "\n",
    "fig, axes = plt.subplots(nrows=1, ncols=n_samples_show, figsize=(10, 3))\n",
    "\n",
    "while n_samples_show > 0:\n",
    "    images = binary_train_data[n_samples_show].reshape(28,28)\n",
    "    targets = binary_train_label[n_samples_show]\n",
    "\n",
    "    axes[n_samples_show - 1].imshow(images, cmap='gray')\n",
    "    axes[n_samples_show - 1].set_xticks([])\n",
    "    axes[n_samples_show - 1].set_yticks([])\n",
    "    axes[n_samples_show - 1].set_title(\"Labeled: {}\".format(targets.item()))\n",
    "    \n",
    "    n_samples_show -= 1"
   ]
  },
  {
   "attachments": {},
   "cell_type": "markdown",
   "metadata": {},
   "source": [
    "# Qkernel"
   ]
  },
  {
   "cell_type": "code",
   "execution_count": 16,
   "metadata": {},
   "outputs": [
    {
     "data": {
      "image/png": "[encoded data removed]",
      "text/plain": [
       "<Figure size 576x360 with 1 Axes>"
      ]
     },
     "metadata": {},
     "output_type": "display_data"
    }
   ],
   "source": [
    "#make a 7qubit device\n",
    "dev = qml.device(\"lightning.gpu\", wires=4)\n",
    "\n",
    "#inverce MERA\n",
    "#configure circuit in a qnode using dev\n",
    "@qml.qnode(dev)\n",
    "def circuit(d, p):\n",
    "\n",
    "    qml.RY(d[0], wires=0)\n",
    "    qml.RY(d[1], wires=1)\n",
    "    qml.RY(d[2], wires=2)\n",
    "    qml.RY(d[3], wires=3)\n",
    "    \n",
    "    qml.CRZ(p[0],wires=(1,0))\n",
    "    qml.CRX(p[1],wires=(1,0))\n",
    "    \n",
    "    qml.CRZ(p[2],wires=(3,2))\n",
    "    qml.CRX(p[3],wires=(3,2))\n",
    "    \n",
    "    qml.CRZ(p[4],wires=(2,0))\n",
    "    qml.CRX(p[5],wires=(2,0))\n",
    "\n",
    "    return qml.expval(qml.PauliZ(0))\n",
    "\n",
    "#define hyper_parameters and weights-init\n",
    "np.random.seed(1)\n",
    "random_trash_data = np.random.rand(4, requires_grad=True)\n",
    "weights_init = 0.01 * np.random.randn(6, requires_grad=True)\n",
    "\n",
    "#needs weights_inits hyperparameter\n",
    "qml.drawer.use_style(style=\"solarized_dark\")\n",
    "fig, ax = qml.draw_mpl(circuit)(random_trash_data, weights_init)"
   ]
  },
  {
   "attachments": {},
   "cell_type": "markdown",
   "metadata": {},
   "source": [
    "## cost function"
   ]
  },
  {
   "cell_type": "code",
   "execution_count": 31,
   "metadata": {},
   "outputs": [],
   "source": [
    "def cost(d, p, l):\n",
    "    j = circuit(d.reshape(1,-1)[0], p) - l\n",
    "    return abs(j)"
   ]
  },
  {
   "attachments": {},
   "cell_type": "markdown",
   "metadata": {},
   "source": [
    "## gradient"
   ]
  },
  {
   "attachments": {},
   "cell_type": "markdown",
   "metadata": {},
   "source": [
    "گرادیان رو برای لیست دوم ورودی تابع هزینمون تعریف می‌کنیم"
   ]
  },
  {
   "cell_type": "code",
   "execution_count": 32,
   "metadata": {},
   "outputs": [],
   "source": [
    "dcircuit = qml.grad(cost, argnum=[1])"
   ]
  },
  {
   "attachments": {},
   "cell_type": "markdown",
   "metadata": {},
   "source": [
    "گرادیان خودمون رو هم تعریف می‌کنیم"
   ]
  },
  {
   "attachments": {},
   "cell_type": "markdown",
   "metadata": {},
   "source": [
    "مشکلش اینه که هنوز دیتای هوک شده و اینارو بهش اضافه نکردیم!"
   ]
  },
  {
   "cell_type": "code",
   "execution_count": null,
   "metadata": {},
   "outputs": [],
   "source": [
    "class grader_optimizer:\n",
    "    def __init__(\n",
    "        self,\n",
    "        qnode,\n",
    "        in_params,\n",
    "        cost,\n",
    "        gradient,\n",
    "        lr = 00.1) -> None:\n",
    "        \n",
    "        self.qnode = qnode\n",
    "        self.params = in_params\n",
    "        self.cost = cost\n",
    "        self.gradient = gradient\n",
    "        self.lr = lr\n",
    "\n",
    "    def step(self):\n",
    "        parameter_gradient = self.gradient(self.cost, self.params)\n",
    "        new_parameter = self.params.numpy() - self.lr*parameter_gradient\n",
    "        \n",
    "        return new_parameter\n",
    "\n",
    "    def train(self, step):\n",
    "        for i in range(step):\n",
    "            new_params = self.step()\n",
    "            self.params = new_params\n",
    "            if i+1%5 == 0 :\n",
    "                cost = self.cost(self.params)\n",
    "                print(\n",
    "                    \"cost after {} updates: {}\".format(i, cost)\n",
    "                )\n",
    "        return self.params"
   ]
  },
  {
   "cell_type": "code",
   "execution_count": null,
   "metadata": {},
   "outputs": [],
   "source": [
    "grader_optim = grader_optimizer(\n",
    "    circuit,\n",
    "    weights_init,\n",
    "    cost,\n",
    "    grader,\n",
    "    0.1\n",
    ")"
   ]
  },
  {
   "attachments": {},
   "cell_type": "markdown",
   "metadata": {},
   "source": [
    "# Trainer"
   ]
  },
  {
   "cell_type": "code",
   "execution_count": 33,
   "metadata": {},
   "outputs": [],
   "source": [
    "class optimizer:\n",
    "    def __init__(\n",
    "        self,\n",
    "        dataset,\n",
    "        lables,\n",
    "        qnode,\n",
    "        in_params, # initial learnable parameters\n",
    "        cost,\n",
    "        gradient,\n",
    "        lr = 00.1) -> None:\n",
    "\n",
    "        self.dataset = dataset\n",
    "        self.labels = lables\n",
    "        # -> use this:\n",
    "        self.qnode = qnode\n",
    "        self.params = in_params\n",
    "        # -> use this:\n",
    "        self.cost = cost\n",
    "        self.gradient = gradient\n",
    "        self.lr = lr\n",
    "\n",
    "# TODO: convolv?\n",
    "    def step(self, data_batch, label_batch):\n",
    "        batch_params = []\n",
    "        for data, label in zip(data_batch, label_batch):\n",
    "            parameter_gradient = np.array(self.gradient(data.reshape(1,-1)[0], self.params, label))\n",
    "            new_parameter = np.array(self.params) - self.lr*parameter_gradient\n",
    "            batch_params.append(new_parameter)\n",
    "        batch_params = sum(batch_params)/len(batch_params)\n",
    "        return batch_params\n",
    "\n",
    "    def train(self, epoach, iterations):\n",
    "        data_batches = np.split(self.dataset, iterations)\n",
    "        label_batches = np.split(self.labels, iterations)\n",
    "        for i in range(epoach):\n",
    "            for data_batch, label_batch in zip(data_batches, label_batches):\n",
    "                new_params = self.step(data_batch, label_batch)\n",
    "                self.params = new_params[0]\n",
    "        return self.params"
   ]
  },
  {
   "cell_type": "code",
   "execution_count": 50,
   "metadata": {},
   "outputs": [],
   "source": [
    "optim = optimizer(\n",
    "    dataset,\n",
    "    labelset,\n",
    "    circuit,\n",
    "    weights_init,\n",
    "    cost,\n",
    "    dcircuit,\n",
    "    1.5\n",
    ")"
   ]
  },
  {
   "attachments": {},
   "cell_type": "markdown",
   "metadata": {},
   "source": [
    "## Train"
   ]
  },
  {
   "cell_type": "code",
   "execution_count": null,
   "metadata": {},
   "outputs": [],
   "source": [
    "# ress = []\n",
    "# plt.plot(ress)\n",
    "# for i in range(50):\n",
    "#     ress.append(circuit(optim.train(100, 20)))\n",
    "#     print(sum(ress)/len(ress), \"after\" ,i+1, \"it\")\n",
    "#     plt.plot(ress)\n",
    "# print(sum(ress)/len(ress))\n",
    "# plt.plot(ress)"
   ]
  },
  {
   "cell_type": "code",
   "execution_count": 35,
   "metadata": {},
   "outputs": [],
   "source": [
    "def coster(datas, parameters, labels):\n",
    "    cost_list = []\n",
    "    for d, l in zip(datas,labels):\n",
    "        cost_list.append(cost(d, parameters, l))\n",
    "    return sum(cost_list)/len(cost_list)"
   ]
  },
  {
   "cell_type": "code",
   "execution_count": 49,
   "metadata": {},
   "outputs": [
    {
     "name": "stdout",
     "output_type": "stream",
     "text": [
      "1 th params:\n",
      "thats cost:\n",
      "1.1276531647145096\n",
      "2 th params:\n",
      "thats cost:\n",
      "1.1275314362976878\n",
      "3 th params:\n",
      "thats cost:\n",
      "1.12669428494324\n",
      "4 th params:\n",
      "thats cost:\n",
      "1.1212264420538174\n",
      "5 th params:\n",
      "thats cost:\n",
      "1.0948529628622574\n",
      "6 th params:\n",
      "thats cost:\n",
      "1.0453134167242195\n",
      "7 th params:\n",
      "thats cost:\n",
      "1.017529577791318\n",
      "8 th params:\n",
      "thats cost:\n",
      "1.0095795592815917\n",
      "9 th params:\n",
      "thats cost:\n",
      "1.0077035477534082\n",
      "10 th params:\n",
      "thats cost:\n",
      "1.0072798899183522\n",
      "11 th params:\n",
      "thats cost:\n",
      "1.0071851317761191\n",
      "12 th params:\n",
      "thats cost:\n",
      "1.007163980739209\n",
      "13 th params:\n",
      "thats cost:\n",
      "1.0071592626429213\n",
      "14 th params:\n",
      "thats cost:\n",
      "1.007158211005609\n",
      "15 th params:\n",
      "thats cost:\n",
      "1.007157976845777\n",
      "1.0480792563566694\n"
     ]
    },
    {
     "data": {
      "text/plain": [
       "[<matplotlib.lines.Line2D at 0x7f6a49655f30>]"
      ]
     },
     "execution_count": 49,
     "metadata": {},
     "output_type": "execute_result"
    },
    {
     "data": {
      "image/png": "[encoded data removed]",
      "text/plain": [
       "<Figure size 640x480 with 1 Axes>"
      ]
     },
     "metadata": {},
     "output_type": "display_data"
    }
   ],
   "source": [
    "train_costs = []\n",
    "plt.plot(train_costs)\n",
    "for i in range(15):\n",
    "    print('{} th'.format(i+1))\n",
    "    time0 = time()\n",
    "    it_params = optim.train(10, 20)\n",
    "    time1 = time()\n",
    "    print(\"takes {} seconds\".format(time1-time0))\n",
    "    print(\"thats cost:\")\n",
    "    train_costs.append(coster(dataset[:50], it_params, labelset[:50]))\n",
    "    print(train_costs[-1])\n",
    "print(sum(train_costs)/len(train_costs))\n",
    "plt.plot(train_costs)"
   ]
  },
  {
   "attachments": {},
   "cell_type": "markdown",
   "metadata": {},
   "source": [
    "### test"
   ]
  },
  {
   "cell_type": "code",
   "execution_count": 67,
   "metadata": {},
   "outputs": [
    {
     "data": {
      "text/plain": [
       "tensor(0.99943958, requires_grad=True)"
      ]
     },
     "execution_count": 67,
     "metadata": {},
     "output_type": "execute_result"
    }
   ],
   "source": [
    "circuit(dataset[11].reshape(1,-1)[0], optim.params)"
   ]
  },
  {
   "cell_type": "code",
   "execution_count": 63,
   "metadata": {},
   "outputs": [
    {
     "data": {
      "text/plain": [
       "-1.0"
      ]
     },
     "execution_count": 63,
     "metadata": {},
     "output_type": "execute_result"
    }
   ],
   "source": [
    "labelset[11]"
   ]
  },
  {
   "cell_type": "code",
   "execution_count": 70,
   "metadata": {},
   "outputs": [
    {
     "name": "stdout",
     "output_type": "stream",
     "text": [
      "79.00000000000006 %\n"
     ]
    }
   ],
   "source": [
    "acc = 0\n",
    "for d, l in zip(dataset, labelset):\n",
    "    per = circuit(d.reshape(1,-1)[0], optim.params)\n",
    "    if per>0.9 and l==-1:\n",
    "        acc += 1/200\n",
    "    elif per<0.9 and l==1:\n",
    "        acc += 1/200\n",
    "print(acc*100, \"%\")"
   ]
  },
  {
   "cell_type": "code",
   "execution_count": null,
   "metadata": {},
   "outputs": [],
   "source": [
    "dcircuit(optim.train(step=20))"
   ]
  },
  {
   "cell_type": "code",
   "execution_count": null,
   "metadata": {},
   "outputs": [],
   "source": [
    "dcircuit(random_trash_data, weights_init)"
   ]
  }
 ],
 "metadata": {
  "kernelspec": {
   "display_name": "pytorch",
   "language": "python",
   "name": "python3"
  },
  "language_info": {
   "codemirror_mode": {
    "name": "ipython",
    "version": 3
   },
   "file_extension": ".py",
   "mimetype": "text/x-python",
   "name": "python",
   "nbconvert_exporter": "python",
   "pygments_lexer": "ipython3",
   "version": "3.10.8"
  },
  "orig_nbformat": 4,
  "vscode": {
   "interpreter": {
    "hash": "d34a10d4799fd03af3feddf53881b3b83c52359076aeb49f1c07606688591cf5"
   }
  }
 },
 "nbformat": 4,
 "nbformat_minor": 2
}
